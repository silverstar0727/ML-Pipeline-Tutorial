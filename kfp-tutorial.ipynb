{
 "cells": [
  {
   "cell_type": "code",
   "execution_count": 1,
   "id": "44514aea",
   "metadata": {},
   "outputs": [
    {
     "name": "stdout",
     "output_type": "stream",
     "text": [
      "\u001b[33m  WARNING: The script tabulate is installed in '/home/jupyter/.local/bin' which is not on PATH.\n",
      "  Consider adding this directory to PATH or, if you prefer to suppress this warning, use --no-warn-script-location.\u001b[0m\n",
      "\u001b[33m  WARNING: The script strip-hints is installed in '/home/jupyter/.local/bin' which is not on PATH.\n",
      "  Consider adding this directory to PATH or, if you prefer to suppress this warning, use --no-warn-script-location.\u001b[0m\n",
      "\u001b[33m  WARNING: The scripts dsl-compile and kfp are installed in '/home/jupyter/.local/bin' which is not on PATH.\n",
      "  Consider adding this directory to PATH or, if you prefer to suppress this warning, use --no-warn-script-location.\u001b[0m\n",
      "\u001b[31mERROR: pip's dependency resolver does not currently take into account all the packages that are installed. This behaviour is the source of the following dependency conflicts.\n",
      "conda 4.9.2 requires ruamel_yaml>=0.11.14, which is not installed.\n",
      "tfx 0.26.3 requires docker<5,>=4.1, but you have docker 5.0.0 which is incompatible.\n",
      "tfx 0.26.3 requires google-api-python-client<2,>=1.7.8, but you have google-api-python-client 2.1.0 which is incompatible.\n",
      "tfx 0.26.3 requires kubernetes<12,>=10.0.1, but you have kubernetes 10.0.0 which is incompatible.\n",
      "tfx 0.26.3 requires pyarrow<0.18,>=0.17, but you have pyarrow 3.0.0 which is incompatible.\n",
      "tensorflow-probability 0.11.0 requires cloudpickle==1.3, but you have cloudpickle 1.1.1 which is incompatible.\n",
      "jupyterlab-git 0.11.0 requires nbdime<2.0.0,>=1.1.0, but you have nbdime 2.1.0 which is incompatible.\n",
      "explainable-ai-sdk 1.2.1 requires numpy<1.19.0, but you have numpy 1.19.5 which is incompatible.\n",
      "black 20.8b1 requires click>=7.1.2, but you have click 7.0 which is incompatible.\n",
      "apache-beam 2.28.0 requires httplib2<0.18.0,>=0.8, but you have httplib2 0.19.1 which is incompatible.\n",
      "apache-beam 2.28.0 requires pyarrow<3.0.0,>=0.15.1, but you have pyarrow 3.0.0 which is incompatible.\u001b[0m\n"
     ]
    }
   ],
   "source": [
    "# 실행 후 런타임 다시시작\n",
    "!pip install -q kfp==0.2.5 --upgrade --user"
   ]
  },
  {
   "cell_type": "code",
   "execution_count": 1,
   "id": "6c490589",
   "metadata": {},
   "outputs": [],
   "source": [
    "import kfp\n",
    "from kfp import dsl\n",
    "\n",
    "def add_two_numbers(a, b):\n",
    "    # 두 개의 값을 인자로 받아서 더하는 함수\n",
    "    return dsl.ContainerOp(\n",
    "        name='calculate_sum',\n",
    "        image='python:3.6.8',\n",
    "        command=['python', '-c'],\n",
    "        arguments=['with open(\"/tmp/results.txt\", \"a\") as file: file.write(str({} + {}))'.format(a, b)],\n",
    "        file_outputs={\n",
    "            'data': '/tmp/results.txt',\n",
    "        }\n",
    "    )\n",
    "\n",
    "def echo_op(text):\n",
    "    # 결과 값을 출력하는 함수\n",
    "    return dsl.ContainerOp(\n",
    "        name='echo',\n",
    "        image='library/bash:4.4.23',\n",
    "        command=['sh', '-c'],\n",
    "        arguments=['echo \"Result: {}\"'.format(text)]\n",
    "    )"
   ]
  },
  {
   "cell_type": "code",
   "execution_count": 2,
   "id": "3c2e4402",
   "metadata": {},
   "outputs": [],
   "source": [
    "@dsl.pipeline(\n",
    "  name='Calcualte sum pipeline',\n",
    "  description='Calculate sum of numbers and prints the result.'\n",
    ")\n",
    "def calculate_sum(a=7, b=10, c=4, d=7):\n",
    "    # 처음 두 개를 병렬 처리하도록 파이프라인을 구성\n",
    "    \n",
    "    sum1 = add_two_numbers(a, b)\n",
    "    sum2 = add_two_numbers(c, d)\n",
    "    sum = add_two_numbers(sum1.output, sum2.output)\n",
    "\n",
    "    echo_task = echo_op(sum.output)"
   ]
  },
  {
   "cell_type": "code",
   "execution_count": 3,
   "id": "ca27a14e",
   "metadata": {},
   "outputs": [
    {
     "name": "stderr",
     "output_type": "stream",
     "text": [
      "/home/jupyter/.local/lib/python3.7/site-packages/kfp/components/_data_passing.py:168: UserWarning: Missing type name was inferred as \"Integer\" based on the value \"7\".\n",
      "  warnings.warn('Missing type name was inferred as \"{}\" based on the value \"{}\".'.format(type_name, str(value)))\n",
      "/home/jupyter/.local/lib/python3.7/site-packages/kfp/components/_data_passing.py:168: UserWarning: Missing type name was inferred as \"Integer\" based on the value \"10\".\n",
      "  warnings.warn('Missing type name was inferred as \"{}\" based on the value \"{}\".'.format(type_name, str(value)))\n",
      "/home/jupyter/.local/lib/python3.7/site-packages/kfp/components/_data_passing.py:168: UserWarning: Missing type name was inferred as \"Integer\" based on the value \"4\".\n",
      "  warnings.warn('Missing type name was inferred as \"{}\" based on the value \"{}\".'.format(type_name, str(value)))\n"
     ]
    }
   ],
   "source": [
    "# pipeline 컴파일\n",
    "kfp.compiler.Compiler().compile(calculate_sum, 'calculate-sum-pipeline.zip')"
   ]
  },
  {
   "cell_type": "code",
   "execution_count": 4,
   "id": "0b0182b5",
   "metadata": {},
   "outputs": [
    {
     "data": {
      "text/html": [
       "Experiment link <a href=\"http://7ecd74b1b09e1376-dot-us-central1.pipelines.googleusercontent.com/#/experiments/details/21359995-f90d-4b8c-9cc0-2908a75baca9\" target=\"_blank\" >here</a>"
      ],
      "text/plain": [
       "<IPython.core.display.HTML object>"
      ]
     },
     "metadata": {},
     "output_type": "display_data"
    },
    {
     "data": {
      "text/html": [
       "Run link <a href=\"http://7ecd74b1b09e1376-dot-us-central1.pipelines.googleusercontent.com/#/runs/details/becd64b1-1c0c-4cd9-99fe-9b5ee7505982\" target=\"_blank\" >here</a>"
      ],
      "text/plain": [
       "<IPython.core.display.HTML object>"
      ]
     },
     "metadata": {},
     "output_type": "display_data"
    }
   ],
   "source": [
    "# 파이프라인 배포\n",
    "client = kfp.Client(host = '7ecd74b1b09e1376-dot-us-central1.pipelines.googleusercontent.com') # 본인의 host wn\n",
    "my_experiment = client.create_experiment(name='my_experiment')\n",
    "my_run = client.run_pipeline(my_experiment.id, 'calculate-sum-pipeline', \n",
    "  'calculate-sum-pipeline.zip')"
   ]
  },
  {
   "cell_type": "code",
   "execution_count": null,
   "id": "dbd707b8",
   "metadata": {},
   "outputs": [],
   "source": []
  }
 ],
 "metadata": {
  "environment": {
   "name": "tf2-gpu.2-3.m65",
   "type": "gcloud",
   "uri": "gcr.io/deeplearning-platform-release/tf2-gpu.2-3:m65"
  },
  "kernelspec": {
   "display_name": "Python 3",
   "language": "python",
   "name": "python3"
  },
  "language_info": {
   "codemirror_mode": {
    "name": "ipython",
    "version": 3
   },
   "file_extension": ".py",
   "mimetype": "text/x-python",
   "name": "python",
   "nbconvert_exporter": "python",
   "pygments_lexer": "ipython3",
   "version": "3.7.10"
  }
 },
 "nbformat": 4,
 "nbformat_minor": 5
}
