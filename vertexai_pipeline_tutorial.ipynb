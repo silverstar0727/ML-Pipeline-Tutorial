{
  "nbformat": 4,
  "nbformat_minor": 0,
  "metadata": {
    "colab": {
      "name": "vertexai_pipeline_tutorial.ipynb",
      "provenance": [],
      "collapsed_sections": [],
      "authorship_tag": "ABX9TyPQNVQU4PV6MqlUUhOFtnnm",
      "include_colab_link": true
    },
    "kernelspec": {
      "name": "python3",
      "display_name": "Python 3"
    },
    "language_info": {
      "name": "python"
    }
  },
  "cells": [
    {
      "cell_type": "markdown",
      "metadata": {
        "id": "view-in-github",
        "colab_type": "text"
      },
      "source": [
        "<a href=\"https://colab.research.google.com/github/silverstar0727/ML-Pipeline-Tutorial/blob/main/vertexai_pipeline_tutorial.ipynb\" target=\"_parent\"><img src=\"https://colab.research.google.com/assets/colab-badge.svg\" alt=\"Open In Colab\"/></a>"
      ]
    },
    {
      "cell_type": "markdown",
      "metadata": {
        "id": "3OWuiQ8ensT0"
      },
      "source": [
        "## 설치 및 라이브러리 임포트"
      ]
    },
    {
      "cell_type": "code",
      "metadata": {
        "id": "D5a9ZFLANh98"
      },
      "source": [
        "# 해당 셀을 실행한 후에 반드시 \"런타임 다시시작\"을 해주세요\n",
        "!pip install -q kfp"
      ],
      "execution_count": 1,
      "outputs": []
    },
    {
      "cell_type": "code",
      "metadata": {
        "id": "u4tXVkJumpXc"
      },
      "source": [
        "from typing import NamedTuple\n",
        "import json \n",
        "\n",
        "import kfp\n",
        "from kfp import dsl\n",
        "from kfp.v2 import compiler\n",
        "from kfp.v2.dsl import (Artifact, Dataset, Input, InputPath, Model, Output,\n",
        "                        OutputPath, component, ClassificationMetrics)\n",
        "from kfp.v2.google.client import AIPlatformClient"
      ],
      "execution_count": 2,
      "outputs": []
    },
    {
      "cell_type": "markdown",
      "metadata": {
        "id": "LuGyYnmcnz4X"
      },
      "source": [
        "## GCP 연결"
      ]
    },
    {
      "cell_type": "code",
      "metadata": {
        "id": "WimjuxN-BU1K"
      },
      "source": [
        "# gcp 연결\n",
        "from google.colab import auth as google_auth\n",
        "\n",
        "google_auth.authenticate_user() # 사용할 gcp 계정으로 연결해주세요"
      ],
      "execution_count": 3,
      "outputs": []
    },
    {
      "cell_type": "markdown",
      "metadata": {
        "id": "NlZSTwBSn1_j"
      },
      "source": [
        "# 경로변수 설정\n",
        "아래 항목들을 본인 환경에 맞게 수정해주세요.\n",
        "\n",
        "* PROJECT_ID = <프로젝트 ID>\n",
        "* REGION = <리전>\n",
        "* BUCKET_NAME = <bucket 이름>\n",
        "* USER = <user 이름>"
      ]
    },
    {
      "cell_type": "code",
      "metadata": {
        "id": "KO67PfIFNJo-"
      },
      "source": [
        "from datetime import datetime\n",
        "\n",
        "PROJECT_ID = 'mlops-210515'\n",
        "REGION = \"us-central1\"\n",
        "\n",
        "TIMESTAMP = datetime.now().strftime(\"%Y%m%d%H%M%S\")\n",
        "BUCKET_NAME = \"gs://pipeline-129332\"\n",
        "\n",
        "USER = \"JeongMin-Do\"\n",
        "PIPELINE_ROOT = \"{}/pipeline_root/{}\".format(BUCKET_NAME, USER)"
      ],
      "execution_count": 4,
      "outputs": []
    },
    {
      "cell_type": "markdown",
      "metadata": {
        "id": "umWhS9W6n875"
      },
      "source": [
        "## Simple Sum"
      ]
    },
    {
      "cell_type": "code",
      "metadata": {
        "colab": {
          "base_uri": "https://localhost:8080/",
          "height": 34
        },
        "id": "SCiq5bv3nb2F",
        "outputId": "67b76b26-ad96-4ef2-ad17-4ef5b4f1d8c7"
      },
      "source": [
        "@component\n",
        "def sum_(a: int, b: int, c: int) -> int:\n",
        "    result = a + b + c\n",
        "    return result\n",
        "\n",
        "@dsl.pipeline(\n",
        "    name = \"simple-sum\",\n",
        "    description = \"A simple sum pipeline\",\n",
        "    pipeline_root=PIPELINE_ROOT\n",
        ")\n",
        "def sum_pipeline(a: int, b: int, c: int):\n",
        "    result1 = sum_(a, 1, 1)\n",
        "    result2 = sum_(b, 2, 2)\n",
        "    result3 = sum_(c, 3, 3)\n",
        "    result4 = sum_(result1.output, result2.output, result3.output)\n",
        "    return result4\n",
        "\n",
        "compiler.Compiler().compile(\n",
        "    pipeline_func = sum_pipeline, \n",
        "    package_path = \"sum.json\"\n",
        ")\n",
        "\n",
        "api_client = AIPlatformClient(\n",
        "    project_id=PROJECT_ID,\n",
        "    region=REGION,\n",
        ")\n",
        "\n",
        "response = api_client.create_run_from_job_spec(\n",
        "    job_spec_path=\"sum.json\", \n",
        "    parameter_values = {\"a\": 1, \"b\": 2, \"c\": 3}\n",
        ")"
      ],
      "execution_count": 5,
      "outputs": [
        {
          "output_type": "display_data",
          "data": {
            "text/html": [
              "See the Pipeline job <a href=\"https://console.cloud.google.com/vertex-ai/locations/us-central1/pipelines/runs/simple-sum-20210703110139?project=mlops-210515\" target=\"_blank\" >here</a>."
            ],
            "text/plain": [
              "<IPython.core.display.HTML object>"
            ]
          },
          "metadata": {
            "tags": []
          }
        }
      ]
    },
    {
      "cell_type": "markdown",
      "metadata": {
        "id": "f0zPSOseoAEf"
      },
      "source": [
        "## Hello World (I/O)"
      ]
    },
    {
      "cell_type": "code",
      "metadata": {
        "id": "AFGz4UK9FMab",
        "colab": {
          "base_uri": "https://localhost:8080/",
          "height": 34
        },
        "outputId": "9417c9df-dc21-4dad-cccf-68a0dc8c864c"
      },
      "source": [
        "@component\n",
        "def hello_world(text: str) -> str:\n",
        "    print(text)\n",
        "    return text\n",
        "\n",
        "\n",
        "@component(packages_to_install=[\"google-cloud-storage\"])\n",
        "def two_outputs(text: str) -> NamedTuple(\"Outputs\", [(\"output_one\", str), (\"output_two\", str)]):\n",
        "    from google.cloud import storage\n",
        "\n",
        "    o1 = f\"output one from text: {text}\"\n",
        "    o2 = f\"output two from text: {text}\"\n",
        "    print(\"output one: {}; output_two: {}\".format(o1, o2))\n",
        "    return (o1, o2)\n",
        "\n",
        "\n",
        "@component\n",
        "def consumer(text1: str, text2: str, text3: str):\n",
        "    print(f\"text1: {text1}; text2: {text2}; text3: {text3}\")\n",
        "\n",
        "@dsl.pipeline(\n",
        "    name=\"hello-world-v2\",\n",
        "    description=\"A simple intro pipeline\",\n",
        "    pipeline_root=PIPELINE_ROOT,\n",
        ")\n",
        "def intro_pipeline(text: str = \"hi there\"):\n",
        "    hw_task = hello_world(text)\n",
        "    two_outputs_task = two_outputs(text)\n",
        "    consumer_task = consumer( \n",
        "        hw_task.output,\n",
        "        two_outputs_task.outputs[\"output_one\"],\n",
        "        two_outputs_task.outputs[\"output_two\"],\n",
        "    )\n",
        "\n",
        "compiler.Compiler().compile(\n",
        "    pipeline_func=intro_pipeline, \n",
        "    package_path=\"hw_pipeline_job.json\"\n",
        ")\n",
        "\n",
        "api_client = AIPlatformClient(\n",
        "    project_id=PROJECT_ID,\n",
        "    region=REGION,\n",
        ")\n",
        "\n",
        "response = api_client.create_run_from_job_spec(\n",
        "    job_spec_path=\"hw_pipeline_job.json\"\n",
        ")"
      ],
      "execution_count": 6,
      "outputs": [
        {
          "output_type": "display_data",
          "data": {
            "text/html": [
              "See the Pipeline job <a href=\"https://console.cloud.google.com/vertex-ai/locations/us-central1/pipelines/runs/hello-world-v2-20210703110140?project=mlops-210515\" target=\"_blank\" >here</a>."
            ],
            "text/plain": [
              "<IPython.core.display.HTML object>"
            ]
          },
          "metadata": {
            "tags": []
          }
        }
      ]
    },
    {
      "cell_type": "markdown",
      "metadata": {
        "id": "pwH2Ia8D-xaQ"
      },
      "source": [
        "## Flip Coin(condition)"
      ]
    },
    {
      "cell_type": "code",
      "metadata": {
        "colab": {
          "base_uri": "https://localhost:8080/",
          "height": 34
        },
        "id": "wk7TrfEXgmi-",
        "outputId": "57d55532-b9a2-414b-eb6b-2ccf5a413d3c"
      },
      "source": [
        "@component\n",
        "def args_generator_op() -> str:\n",
        "    import json\n",
        "\n",
        "    return json.dumps(\n",
        "        [{\"cats\": \"1\", \"dogs\": \"2\"}, {\"cats\": \"10\", \"dogs\": \"20\"}],\n",
        "        sort_keys=True,\n",
        "    )\n",
        "\n",
        "\n",
        "@component\n",
        "def print_op(msg: str):\n",
        "    print(msg)\n",
        "\n",
        "\n",
        "@component\n",
        "def flip_coin_op() -> str:\n",
        "    \"\"\"Flip a coin and output heads or tails randomly.\"\"\"\n",
        "    import random\n",
        "\n",
        "    result = \"heads\" if random.randint(0, 1) == 0 else \"tails\"\n",
        "    return result\n",
        "\n",
        "\n",
        "@dsl.pipeline(\n",
        "    name=\"flipcoin\",\n",
        "    pipeline_root=PIPELINE_ROOT,\n",
        ")\n",
        "def my_pipeline(\n",
        "    json_string: str = json.dumps(\n",
        "        [\n",
        "            {\n",
        "                \"snakes\": \"anaconda\",\n",
        "                \"lizards\": \"anole\",\n",
        "                \"bunnies\": [{\"cottontail\": \"bugs\"}, {\"cottontail\": \"thumper\"}],\n",
        "            },\n",
        "            {\n",
        "                \"snakes\": \"cobra\",\n",
        "                \"lizards\": \"gecko\",\n",
        "                \"bunnies\": [{\"cottontail\": \"roger\"}],\n",
        "            },\n",
        "            {\n",
        "                \"snakes\": \"boa\",\n",
        "                \"lizards\": \"iguana\",\n",
        "                \"bunnies\": [\n",
        "                    {\"cottontail\": \"fluffy\"},\n",
        "                    {\"fuzzy_lop\": \"petunia\", \"cottontail\": \"peter\"},\n",
        "                ],\n",
        "            },\n",
        "        ],\n",
        "        sort_keys=True,\n",
        "    )\n",
        "):\n",
        "    flip1 = flip_coin_op()\n",
        "\n",
        "    with dsl.Condition(\n",
        "        flip1.output != \"no-such-result\", name=\"alwaystrue\"\n",
        "    ):  # always true\n",
        "\n",
        "        args_generator = args_generator_op()\n",
        "        \n",
        "        # {\"cats\": \"1\", \"dogs\": \"2\"}, {\"cats\": \"10\", \"dogs\": \"20\"}를 두번 반복하는 loop\n",
        "        with dsl.ParallelFor(args_generator.output) as item:\n",
        "            print_op(json_string)\n",
        "            \n",
        "            with dsl.Condition(flip1.output == \"heads\", name=\"heads\"):\n",
        "                print_op(item.cats)\n",
        "            \n",
        "            with dsl.Condition(flip1.output == \"tails\", name=\"tails\"):\n",
        "                print_op(item.dogs)\n",
        "\n",
        "'''\n",
        "    with dsl.ParallelFor(json_string) as item:\n",
        "        with dsl.Condition(item.snakes == \"boa\", name=\"snakes\"):\n",
        "            print_op(item.snakes)\n",
        "            print_op(item.lizards)\n",
        "            print_op(item.bunnies)\n",
        "\n",
        "    # it is possible to access sub-items\n",
        "    with dsl.ParallelFor(json_string) as item:\n",
        "        with dsl.ParallelFor(item.bunnies) as item_bunnies:\n",
        "            print_op(item_bunnies.cottontail)\n",
        "'''\n",
        "\n",
        "compiler.Compiler().compile(\n",
        "    pipeline_func = my_pipeline, package_path = \"flipcoin.json\"\n",
        ")\n",
        "\n",
        "api_client = AIPlatformClient(\n",
        "    project_id=PROJECT_ID,\n",
        "    region=REGION,\n",
        ")\n",
        "\n",
        "response = api_client.create_run_from_job_spec(\n",
        "    job_spec_path=\"flipcoin.json\", pipeline_root=PIPELINE_ROOT\n",
        ")"
      ],
      "execution_count": 13,
      "outputs": [
        {
          "output_type": "display_data",
          "data": {
            "text/html": [
              "See the Pipeline job <a href=\"https://console.cloud.google.com/vertex-ai/locations/us-central1/pipelines/runs/flipcoin-20210703111931?project=mlops-210515\" target=\"_blank\" >here</a>."
            ],
            "text/plain": [
              "<IPython.core.display.HTML object>"
            ]
          },
          "metadata": {
            "tags": []
          }
        }
      ]
    },
    {
      "cell_type": "code",
      "metadata": {
        "id": "GQg1btuUCAGk"
      },
      "source": [
        ""
      ],
      "execution_count": 8,
      "outputs": []
    }
  ]
}