{
  "nbformat": 4,
  "nbformat_minor": 0,
  "metadata": {
    "colab": {
      "name": "mnist_simple_pipeline.ipynb",
      "provenance": [],
      "collapsed_sections": [],
      "authorship_tag": "ABX9TyMm2XOmT8SH4GcnKcGkSjA2",
      "include_colab_link": true
    },
    "kernelspec": {
      "name": "python3",
      "display_name": "Python 3"
    },
    "language_info": {
      "name": "python"
    }
  },
  "cells": [
    {
      "cell_type": "markdown",
      "metadata": {
        "id": "view-in-github",
        "colab_type": "text"
      },
      "source": [
        "<a href=\"https://colab.research.google.com/github/silverstar0727/ML-Pipeline-Tutorial/blob/main/mnist_simple_pipeline.ipynb\" target=\"_parent\"><img src=\"https://colab.research.google.com/assets/colab-badge.svg\" alt=\"Open In Colab\"/></a>"
      ]
    },
    {
      "cell_type": "markdown",
      "metadata": {
        "id": "3OWuiQ8ensT0"
      },
      "source": [
        "## 설치 및 라이브러리 임포트"
      ]
    },
    {
      "cell_type": "code",
      "metadata": {
        "id": "D5a9ZFLANh98"
      },
      "source": [
        "# 해당 셀을 실행한 후에 반드시 \"런타임 다시시작\"을 해주세요\n",
        "!pip install -q kfp"
      ],
      "execution_count": null,
      "outputs": []
    },
    {
      "cell_type": "code",
      "metadata": {
        "id": "u4tXVkJumpXc"
      },
      "source": [
        "from typing import NamedTuple\n",
        "import json \n",
        "\n",
        "import kfp\n",
        "from kfp import dsl\n",
        "from kfp.v2 import compiler\n",
        "from kfp.v2.dsl import (Artifact, Dataset, Input, InputPath, Model, Output,\n",
        "                        OutputPath, component, ClassificationMetrics)\n",
        "from kfp.v2.google.client import AIPlatformClient"
      ],
      "execution_count": 1,
      "outputs": []
    },
    {
      "cell_type": "markdown",
      "metadata": {
        "id": "LuGyYnmcnz4X"
      },
      "source": [
        "## GCP 연결"
      ]
    },
    {
      "cell_type": "code",
      "metadata": {
        "id": "WimjuxN-BU1K"
      },
      "source": [
        "# gcp 연결\n",
        "from google.colab import auth as google_auth\n",
        "\n",
        "google_auth.authenticate_user()"
      ],
      "execution_count": 2,
      "outputs": []
    },
    {
      "cell_type": "markdown",
      "metadata": {
        "id": "8mPM-wtiZ1dx"
      },
      "source": [
        "# 경로변수 설정\n",
        "아래 항목들을 본인 환경에 맞게 수정해주세요.\n",
        "\n",
        "* PROJECT_ID = <프로젝트 ID>\n",
        "* REGION = <리전>\n",
        "* BUCKET_NAME = <bucket 이름>\n",
        "* USER = <user 이름>"
      ]
    },
    {
      "cell_type": "code",
      "metadata": {
        "id": "3hQzhMNVwsVC"
      },
      "source": [
        "from datetime import datetime\n",
        "\n",
        "PROJECT_ID = 'mlops-210515'\n",
        "REGION = \"us-central1\"\n",
        "\n",
        "TIMESTAMP = datetime.now().strftime(\"%Y%m%d%H%M%S\")\n",
        "BUCKET_NAME = \"gs://pipeline-129332\"\n",
        "\n",
        "USER = \"JeongMin-Do\"\n",
        "PIPELINE_ROOT = \"{}/pipeline_root/{}\".format(BUCKET_NAME, USER)"
      ],
      "execution_count": 13,
      "outputs": []
    },
    {
      "cell_type": "markdown",
      "metadata": {
        "id": "pRHcAzj5gL34"
      },
      "source": [
        "# Simple Pipeline"
      ]
    },
    {
      "cell_type": "markdown",
      "metadata": {
        "id": "lZzm-hYwgOl0"
      },
      "source": [
        "#### download component"
      ]
    },
    {
      "cell_type": "code",
      "metadata": {
        "id": "818WA_8we3oI"
      },
      "source": [
        "# outputpath를 활용하여 load한 mnist 데이터를 저장합니다.\n",
        "@component(base_image=\"tensorflow/tensorflow\", output_component_file='download_mnist.yaml')\n",
        "def download_mnist(output_dir_path: OutputPath(\"dataset\")):\n",
        "    import tensorflow as tf\n",
        "\n",
        "    tf.keras.datasets.mnist.load_data(output_dir_path)"
      ],
      "execution_count": 31,
      "outputs": []
    },
    {
      "cell_type": "markdown",
      "metadata": {
        "id": "QRlmzmMggT0t"
      },
      "source": [
        "#### train component"
      ]
    },
    {
      "cell_type": "code",
      "metadata": {
        "id": "lE7Z-nm1e6r5"
      },
      "source": [
        "# inputpath에 위에서 저장한 인자를 넣어 data를 받아오고 model을 저장할 outputpath를 지정합니다.\n",
        "@component(base_image=\"tensorflow/tensorflow\", output_component_file='train_mnist.yaml')\n",
        "def train_mnist(data_path: InputPath(\"dataset\"), model_output: OutputPath(\"Model\")):\n",
        "    import tensorflow as tf\n",
        "    import numpy as np\n",
        "    with np.load(data_path, allow_pickle=True) as f:\n",
        "        x_train, y_train = f['x_train'], f['y_train']\n",
        "        x_test, y_test = f['x_test'], f['y_test']\n",
        "    print(x_train.shape)\n",
        "    print(y_train.shape)\n",
        "\n",
        "    model = tf.keras.models.Sequential([\n",
        "        tf.keras.layers.Flatten(input_shape=(28, 28)),\n",
        "        tf.keras.layers.Dense(128, activation='relu'),\n",
        "        tf.keras.layers.Dense(10)\n",
        "    ])\n",
        "    model.compile(\n",
        "        optimizer=tf.keras.optimizers.Adam(0.001),\n",
        "        loss=tf.keras.losses.SparseCategoricalCrossentropy(from_logits=True),\n",
        "        metrics=[tf.keras.metrics.SparseCategoricalAccuracy()],\n",
        "    )\n",
        "\n",
        "    model.fit(\n",
        "        x_train, y_train,\n",
        "    )\n",
        "    results = model.evaluate(x_test, y_test)\n",
        "\n",
        "    print(f'loss: {results[0]}, acc: {results[1]}')\n",
        "\n",
        "    model.save(model_output)"
      ],
      "execution_count": 32,
      "outputs": []
    },
    {
      "cell_type": "markdown",
      "metadata": {
        "id": "QIRHmVn8gWGp"
      },
      "source": [
        "#### pipeline 정의"
      ]
    },
    {
      "cell_type": "code",
      "metadata": {
        "id": "YwYKRlUXqZNm"
      },
      "source": [
        "# 파이프라인을 정의합니다.\n",
        "@dsl.pipeline(\n",
        "    name = \"mnist-simple-1\",\n",
        "    description = \"A simple mnist pipeline\",\n",
        "    pipeline_root = PIPELINE_ROOT\n",
        ")\n",
        "def tf_mnist_pipeline():\n",
        "    download_op = download_mnist()\n",
        "    train_mnist_op = train_mnist(download_op.output)"
      ],
      "execution_count": 33,
      "outputs": []
    },
    {
      "cell_type": "markdown",
      "metadata": {
        "id": "pQ4Uh5t7gZsG"
      },
      "source": [
        "#### compile & run"
      ]
    },
    {
      "cell_type": "code",
      "metadata": {
        "colab": {
          "base_uri": "https://localhost:8080/",
          "height": 34
        },
        "id": "WKLLyym_d_3Z",
        "outputId": "ea5b1171-2f2f-4275-f585-202542e3295f"
      },
      "source": [
        "compiler.Compiler().compile(\n",
        "    pipeline_func = tf_mnist_pipeline, \n",
        "    package_path = \"mnist-simple-1.json\"\n",
        ")\n",
        "api_client = AIPlatformClient(\n",
        "    project_id=PROJECT_ID,\n",
        "    region=REGION,\n",
        ")\n",
        "response = api_client.create_run_from_job_spec(\n",
        "    job_spec_path=\"mnist-simple-1.json\",\n",
        ")"
      ],
      "execution_count": 34,
      "outputs": [
        {
          "output_type": "display_data",
          "data": {
            "text/html": [
              "See the Pipeline job <a href=\"https://console.cloud.google.com/vertex-ai/locations/us-central1/pipelines/runs/mnist-simple-1-20210703105921?project=mlops-210515\" target=\"_blank\" >here</a>."
            ],
            "text/plain": [
              "<IPython.core.display.HTML object>"
            ]
          },
          "metadata": {
            "tags": []
          }
        }
      ]
    },
    {
      "cell_type": "code",
      "metadata": {
        "id": "NhBDKqrlAG0Y"
      },
      "source": [
        ""
      ],
      "execution_count": 34,
      "outputs": []
    }
  ]
}