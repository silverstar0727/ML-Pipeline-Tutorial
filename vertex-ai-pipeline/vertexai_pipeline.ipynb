{
  "nbformat": 4,
  "nbformat_minor": 0,
  "metadata": {
    "colab": {
      "name": "vertexai-pipeline.ipynb",
      "provenance": [],
      "collapsed_sections": []
    },
    "kernelspec": {
      "name": "python3",
      "display_name": "Python 3"
    },
    "language_info": {
      "name": "python"
    }
  },
  "cells": [
    {
      "cell_type": "markdown",
      "metadata": {
        "id": "wK3e9KO4BF4W"
      },
      "source": [
        "experimental + custom components"
      ]
    },
    {
      "cell_type": "code",
      "metadata": {
        "id": "IsNRrwHJt7-s"
      },
      "source": [
        "# 해당 셀을 실행한 후에 반드시 \"런타임 다시시작\"을 해주세요\n",
        "!pip3 install kfp google-cloud-aiplatform --upgrade -q --user"
      ],
      "execution_count": null,
      "outputs": []
    },
    {
      "cell_type": "code",
      "metadata": {
        "id": "u4tXVkJumpXc"
      },
      "source": [
        "import kfp\n",
        "from kfp import dsl\n",
        "from kfp.v2 import compiler\n",
        "from kfp.v2.dsl import (Artifact, Dataset, Input, InputPath, Model, Output,\n",
        "                        OutputPath, component, ClassificationMetrics, Metrics)\n",
        "from kfp.v2.google import experimental\n",
        "\n",
        "from google.cloud import aiplatform as vertex_ai\n",
        "\n",
        "import tensorflow as tf\n",
        "\n",
        "import time\n",
        "from typing import Optional"
      ],
      "execution_count": null,
      "outputs": []
    },
    {
      "cell_type": "markdown",
      "metadata": {
        "id": "LuGyYnmcnz4X"
      },
      "source": [
        "## GCP 연결"
      ]
    },
    {
      "cell_type": "code",
      "metadata": {
        "id": "WimjuxN-BU1K"
      },
      "source": [
        "# gcp 연결\n",
        "from google.colab import auth as google_auth\n",
        "\n",
        "google_auth.authenticate_user()"
      ],
      "execution_count": null,
      "outputs": []
    },
    {
      "cell_type": "markdown",
      "metadata": {
        "id": "OWBrFnZ_dFy-"
      },
      "source": [
        "# 환경변수 설정\n",
        "아래 항목들을 본인 환경에 맞게 수정해주세요.\n",
        "\n",
        "* PROJECT_ID = <프로젝트 ID>\n",
        "* REGION = <리전>\n",
        "* BUCKET_NAME = <bucket 이름>\n",
        "* USER = <user 이름>"
      ]
    },
    {
      "cell_type": "code",
      "metadata": {
        "id": "yUqAIs_RTHUQ"
      },
      "source": [
        "# GCP 설정\n",
        "PROJECT_ID = 'vertexai-pipeline'\n",
        "REGION = \"us-central1\"\n",
        "USER = \"JeongMin-Do\"\n",
        "BUCKET = \"vertexai-pipeline-bucket\"\n",
        "PIPELINE_NAME = \"mnist\"\n",
        "\n",
        "# wandb 설정\n",
        "WANDB_API_KEY = \"135017ad091dd0ca4896f8f5c427e9f982c2e9a9\""
      ],
      "execution_count": null,
      "outputs": []
    },
    {
      "cell_type": "code",
      "metadata": {
        "id": "PSjocvRKfprb"
      },
      "source": [
        "ts = int(time.time())\n",
        "BUCKET_NAME = f\"gs://{BUCKET}\"\n",
        "PIPELINE_ROOT = f\"{BUCKET_NAME}/pipeline_root/{USER}\"\n",
        "WORKING_DIR = f\"{PIPELINE_ROOT}/{ts}\"\n",
        "MODEL_DISPLAY_NAME = f\"train_deploy{ts}\"\n",
        "MODEL_DIR = f\"pipeline_root/{USER}/{ts}\"\n",
        "\n",
        "vertex_ai.init(project=PROJECT_ID)"
      ],
      "execution_count": null,
      "outputs": []
    },
    {
      "cell_type": "markdown",
      "metadata": {
        "id": "O6lRpRZ3eGSC"
      },
      "source": [
        "# Pipeline 정의"
      ]
    },
    {
      "cell_type": "markdown",
      "metadata": {
        "id": "ZPsQjPmge2Z9"
      },
      "source": [
        "#### 해당 부분을 요구에 맞게 수정해주세요"
      ]
    },
    {
      "cell_type": "code",
      "metadata": {
        "id": "ZOOaAI1cWKpB"
      },
      "source": [
        "@component\n",
        "def train(training_state: str):\n",
        "    print(f\"training task: {training_state}\")\n",
        "\n",
        "@component(base_image=\"silverstar456/vertexai:aiplatform\")\n",
        "def model_upload(\n",
        "    project: str,\n",
        "    location: str,\n",
        "    display_name: str,\n",
        "    serving_container_image_uri: str,\n",
        "    artifact_uri: Optional[str]=None,\n",
        "):\n",
        "    from google.cloud import aiplatform as vertex_ai\n",
        "\n",
        "    vertex_ai.init(project=project, location=location)\n",
        "\n",
        "    model = vertex_ai.Model.upload(\n",
        "        display_name=display_name,\n",
        "        artifact_uri=artifact_uri,\n",
        "        serving_container_image_uri=serving_container_image_uri,\n",
        "    )\n",
        "\n",
        "@component(base_image=\"silverstar456/vertexai:aiplatform\")\n",
        "def model_deploy(\n",
        "    project: str,\n",
        "    location: str,\n",
        "    display_name: str,\n",
        "):\n",
        "    from google.cloud import aiplatform as vertex_ai\n",
        "\n",
        "    vertex_ai.init(project=project, location=location)\n",
        "    model = vertex_ai.Model.list()[0]\n",
        "\n",
        "    endpoint = vertex_ai.Endpoint.create(display_name=display_name)\n",
        "    model.deploy(endpoint=endpoint, \n",
        "                 machine_type=\"n1-standard-2\", \n",
        "                 min_replica_count=1, \n",
        "                 max_replica_count=1)"
      ],
      "execution_count": null,
      "outputs": []
    },
    {
      "cell_type": "code",
      "metadata": {
        "id": "da9RO2o785fz"
      },
      "source": [
        "@kfp.dsl.pipeline(name=\"mnist-pipeline-\" + str(ts), pipeline_root=PIPELINE_ROOT)\n",
        "def pipeline():\n",
        "    # model train\n",
        "    train_task = train(\"model training\")\n",
        "    experimental.run_as_aiplatform_custom_job(\n",
        "        train_task,\n",
        "        worker_pool_specs=[\n",
        "            {\n",
        "                \"containerSpec\": {\n",
        "                    \"env\": [{\"name\": \"WORKING_DIR\", \"value\": MODEL_DIR},\n",
        "                            {\"name\": \"BUCKET\", \"value\": BUCKET}],\n",
        "                    \"imageUri\": \"silverstar456/vertexai:mnist-pipeline\", # 사전에 빌드한 도커 이미지 URI\n",
        "                },\n",
        "                \"replicaCount\": \"1\",\n",
        "                \"machineSpec\": {\n",
        "                    \"machineType\": \"n1-standard-8\", # 실행시 사용할 머신 타입 GCP 문서 참조\n",
        "                    \"accelerator_type\": vertex_ai.gapic.AcceleratorType.NVIDIA_TESLA_V100, # GPU 타입\n",
        "                    \"accelerator_count\": 1, # GPU 개수\n",
        "                },\n",
        "            }\n",
        "        ],\n",
        "    )\n",
        "\n",
        "    # model upload\n",
        "    uploader = model_upload(\n",
        "        project=PROJECT_ID,\n",
        "        location=REGION,\n",
        "        display_name=MODEL_DISPLAY_NAME,\n",
        "        artifact_uri=WORKING_DIR,\n",
        "        serving_container_image_uri=\"gcr.io/cloud-aiplatform/prediction/tf2-cpu.2-2:latest\"\n",
        "        )\n",
        "    uploader.after(train_task)\n",
        "    \n",
        "    # model deploy\n",
        "    deployer = model_deploy(\n",
        "        project=PROJECT_ID,\n",
        "        location=REGION,\n",
        "        display_name=MODEL_DISPLAY_NAME,\n",
        "    )\n",
        "    deployer.after(uploader)"
      ],
      "execution_count": null,
      "outputs": []
    },
    {
      "cell_type": "code",
      "metadata": {
        "id": "259M41bwmFSE",
        "colab": {
          "base_uri": "https://localhost:8080/"
        },
        "outputId": "5c5220ff-a4b5-4c06-c7fd-75e6b4be4c8e"
      },
      "source": [
        "compiler.Compiler().compile(\n",
        "    pipeline_func = pipeline, package_path = \"mnist-pipeline.json\"\n",
        ")\n",
        "\n",
        "vertex_ai.init(project=PROJECT_ID)\n",
        "pipeline = vertex_ai.PipelineJob(\n",
        "    display_name=\"mnist\",\n",
        "    template_path=\"mnist-pipeline.json\",\n",
        "    parameter_values={},\n",
        ")\n",
        "\n",
        "pipeline.run(sync=False)"
      ],
      "execution_count": null,
      "outputs": [
        {
          "output_type": "stream",
          "name": "stdout",
          "text": [
            "INFO:google.cloud.aiplatform.pipeline_jobs:Creating PipelineJob\n"
          ]
        }
      ]
    },
    {
      "cell_type": "code",
      "metadata": {
        "id": "6_Bf2gfItxRS"
      },
      "source": [
        ""
      ],
      "execution_count": null,
      "outputs": []
    }
  ]
}