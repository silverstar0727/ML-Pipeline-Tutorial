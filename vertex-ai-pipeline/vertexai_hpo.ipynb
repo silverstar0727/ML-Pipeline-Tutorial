{
  "nbformat": 4,
  "nbformat_minor": 0,
  "metadata": {
    "colab": {
      "name": "vertexai_hpo.ipynb",
      "provenance": [],
      "collapsed_sections": []
    },
    "kernelspec": {
      "name": "python3",
      "display_name": "Python 3"
    },
    "language_info": {
      "name": "python"
    }
  },
  "cells": [
    {
      "cell_type": "code",
      "metadata": {
        "id": "D5a9ZFLANh98"
      },
      "source": [
        "# 해당 셀을 실행한 후에 반드시 \"런타임 다시시작\"을 해주세요\n",
        "!pip3 install kfp google-cloud-aiplatform matplotlib --upgrade -q --user"
      ],
      "execution_count": null,
      "outputs": []
    },
    {
      "cell_type": "code",
      "metadata": {
        "id": "u4tXVkJumpXc"
      },
      "source": [
        "import kfp\n",
        "from kfp import dsl\n",
        "from kfp.v2 import compiler\n",
        "from kfp.v2.dsl import (Artifact, Dataset, Input, InputPath, Model, Output,\n",
        "                        OutputPath, component, ClassificationMetrics, Metrics)\n",
        "from kfp.v2.google import experimental\n",
        "\n",
        "from google.cloud import aiplatform as vertex_ai\n",
        "from google.cloud.aiplatform import hyperparameter_tuning as hpt"
      ],
      "execution_count": null,
      "outputs": []
    },
    {
      "cell_type": "markdown",
      "metadata": {
        "id": "LuGyYnmcnz4X"
      },
      "source": [
        "## GCP 연결"
      ]
    },
    {
      "cell_type": "code",
      "metadata": {
        "id": "WimjuxN-BU1K"
      },
      "source": [
        "# gcp 연결\n",
        "from google.colab import auth as google_auth\n",
        "\n",
        "google_auth.authenticate_user()"
      ],
      "execution_count": null,
      "outputs": []
    },
    {
      "cell_type": "markdown",
      "metadata": {
        "id": "OWBrFnZ_dFy-"
      },
      "source": [
        "# 환경변수 설정\n",
        "아래 항목들을 본인 환경에 맞게 수정해주세요.\n",
        "\n",
        "* PROJECT_ID = <프로젝트 ID>\n",
        "* REGION = <리전>\n",
        "* BUCKET_NAME = <bucket 이름>\n",
        "* USER = <user 이름>"
      ]
    },
    {
      "cell_type": "code",
      "metadata": {
        "id": "PSjocvRKfprb"
      },
      "source": [
        "from datetime import datetime\n",
        "\n",
        "PROJECT_ID = 'gold-doodad-326906'\n",
        "REGION = \"us-central1\"\n",
        "\n",
        "TIMESTAMP = datetime.now().strftime(\"%Y%m%d%H%M%S\")\n",
        "BUCKET_NAME = \"gs://post-summarizer\"\n",
        "\n",
        "USER = \"JeongMin-Do\"\n",
        "PIPELINE_ROOT = \"{}/pipeline_root/{}\".format(BUCKET_NAME, USER)\n",
        "vertex_ai.init(project=PROJECT_ID)"
      ],
      "execution_count": null,
      "outputs": []
    },
    {
      "cell_type": "markdown",
      "metadata": {
        "id": "BRhM9YdveC2-"
      },
      "source": [
        "# Parameter 지정"
      ]
    },
    {
      "cell_type": "code",
      "metadata": {
        "colab": {
          "base_uri": "https://localhost:8080/"
        },
        "id": "U0fG5QLd8R_G",
        "outputId": "9e70c26c-f18a-49e7-d224-4c270792df7a"
      },
      "source": [
        "# create working dir to pass to job spec\n",
        "import time\n",
        "\n",
        "ts = int(time.time())\n",
        "WORKING_DIR = f\"{PIPELINE_ROOT}/{ts}\"\n",
        "\n",
        "MODEL_DISPLAY_NAME = f\"train_deploy{ts}\"\n",
        "print(WORKING_DIR)\n",
        "print(MODEL_DISPLAY_NAME)"
      ],
      "execution_count": null,
      "outputs": [
        {
          "output_type": "stream",
          "name": "stdout",
          "text": [
            "gs://post-summarizer/pipeline_root/JeongMin-Do/1632672294\n",
            "train_deploy1632672294\n"
          ]
        }
      ]
    },
    {
      "cell_type": "markdown",
      "metadata": {
        "id": "O6lRpRZ3eGSC"
      },
      "source": [
        "# hpo job 정의"
      ]
    },
    {
      "cell_type": "markdown",
      "metadata": {
        "id": "ZPsQjPmge2Z9"
      },
      "source": [
        "#### 해당 부분을 요구에 맞게 수정해주세요"
      ]
    },
    {
      "cell_type": "code",
      "metadata": {
        "id": "wILMtmMg3PRW"
      },
      "source": [
        "worker_pool_specs = [{\n",
        "    \"machine_spec\": {\n",
        "        \"machine_type\": \"n1-standard-4\",\n",
        "        \"accelerator_type\": \"NVIDIA_TESLA_T4\",\n",
        "        \"accelerator_count\": 1\n",
        "    },\n",
        "    \"replica_count\": 1,\n",
        "    \"container_spec\": {\n",
        "        \"image_uri\": \"silverstar456/vertexai:hpo\"\n",
        "    }\n",
        "}]\n",
        "\n",
        "metric_spec={'accuracy':'maximize'}\n",
        "\n",
        "parameter_spec = {\n",
        "    \"learning_rate\": hpt.DoubleParameterSpec(min=0.001, max=1, scale=\"log\"),\n",
        "    \"momentum\": hpt.DoubleParameterSpec(min=0, max=1, scale=\"linear\"),\n",
        "    \"num_neurons\": hpt.DiscreteParameterSpec(values=[64, 128, 512], scale=None)\n",
        "}\n",
        "\n",
        "my_custom_job = vertex_ai.CustomJob(display_name='horses-humans-sdk-job',\n",
        "                              worker_pool_specs=worker_pool_specs,\n",
        "                              staging_bucket=BUCKET_NAME)\n",
        "\n",
        "hp_job = vertex_ai.HyperparameterTuningJob(\n",
        "    display_name='horses-humans-sdk-job',\n",
        "    custom_job=my_custom_job,\n",
        "    metric_spec=metric_spec,\n",
        "    parameter_spec=parameter_spec,\n",
        "    max_trial_count=15,\n",
        "    parallel_trial_count=3)\n",
        "\n",
        "hp_job.run()"
      ],
      "execution_count": null,
      "outputs": []
    },
    {
      "cell_type": "code",
      "metadata": {
        "id": "cHicTlu18Exk"
      },
      "source": [
        ""
      ],
      "execution_count": null,
      "outputs": []
    }
  ]
}