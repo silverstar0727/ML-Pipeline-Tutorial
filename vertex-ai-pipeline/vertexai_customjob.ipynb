{
  "nbformat": 4,
  "nbformat_minor": 0,
  "metadata": {
    "colab": {
      "name": "vertexai_customjob.ipynb",
      "provenance": [],
      "collapsed_sections": []
    },
    "kernelspec": {
      "name": "python3",
      "display_name": "Python 3"
    },
    "language_info": {
      "name": "python"
    }
  },
  "cells": [
    {
      "cell_type": "code",
      "metadata": {
        "id": "D5a9ZFLANh98"
      },
      "source": [
        "# 해당 셀을 실행한 후에 반드시 \"런타임 다시시작\"을 해주세요\n",
        "!pip3 install kfp google-cloud-aiplatform --upgrade -q --user"
      ],
      "execution_count": null,
      "outputs": []
    },
    {
      "cell_type": "code",
      "metadata": {
        "id": "u4tXVkJumpXc"
      },
      "source": [
        "import kfp\n",
        "from kfp import dsl\n",
        "from kfp.v2 import compiler\n",
        "from kfp.v2.dsl import (Artifact, Dataset, Input, InputPath, Model, Output,\n",
        "                        OutputPath, component, ClassificationMetrics, Metrics)\n",
        "from kfp.v2.google import experimental\n",
        "\n",
        "from google.cloud import aiplatform as vertex_ai"
      ],
      "execution_count": null,
      "outputs": []
    },
    {
      "cell_type": "markdown",
      "metadata": {
        "id": "LuGyYnmcnz4X"
      },
      "source": [
        "## GCP 연결"
      ]
    },
    {
      "cell_type": "code",
      "metadata": {
        "id": "WimjuxN-BU1K"
      },
      "source": [
        "# gcp 연결\n",
        "from google.colab import auth as google_auth\n",
        "\n",
        "google_auth.authenticate_user()"
      ],
      "execution_count": null,
      "outputs": []
    },
    {
      "cell_type": "markdown",
      "metadata": {
        "id": "OWBrFnZ_dFy-"
      },
      "source": [
        "# 환경변수 설정\n",
        "아래 항목들을 본인 환경에 맞게 수정해주세요.\n",
        "\n",
        "* PROJECT_ID = <프로젝트 ID>\n",
        "* REGION = <리전>\n",
        "* BUCKET_NAME = <bucket 이름>\n",
        "* USER = <user 이름>"
      ]
    },
    {
      "cell_type": "code",
      "metadata": {
        "id": "yUqAIs_RTHUQ"
      },
      "source": [
        "# GCP 설정\n",
        "PROJECT_ID = 'gold-doodad-326906'\n",
        "REGION = \"us-central1\"\n",
        "USER = \"JeongMin-Do\"\n",
        "BUCKET = \"mlops-1234\"\n",
        "PIPELINE_NAME = \"mnist\"\n",
        "\n",
        "# wandb 설정\n",
        "WANDB_API_KEY = \"135017ad091dd0ca4896f8f5c427e9f982c2e9a9\""
      ],
      "execution_count": null,
      "outputs": []
    },
    {
      "cell_type": "code",
      "metadata": {
        "id": "PSjocvRKfprb",
        "colab": {
          "base_uri": "https://localhost:8080/"
        },
        "outputId": "b51656c4-7670-4cce-d844-ebd8ae0de5cb"
      },
      "source": [
        "ts = int(time.time())\n",
        "BUCKET_NAME = f\"gs://{BUCKET}\"\n",
        "PIPELINE_ROOT = f\"{BUCKET_NAME}/pipeline_root/{USER}\"\n",
        "WORKING_DIR = f\"{PIPELINE_ROOT}/{ts}\"\n",
        "MODEL_DISPLAY_NAME = f\"train_deploy{ts}\"\n",
        "MODEL_DIR = f\"pipeline_root/{USER}/{ts}\"\n",
        "\n",
        "print(MODEL_DIR)\n",
        "print(WORKING_DIR)\n",
        "print(MODEL_DISPLAY_NAME)\n",
        "\n",
        "vertex_ai.init(project=PROJECT_ID)"
      ],
      "execution_count": null,
      "outputs": [
        {
          "output_type": "stream",
          "name": "stdout",
          "text": [
            "pipeline_root/JeongMin-Do/1632766559\n",
            "gs://mlops-1234/pipeline_root/JeongMin-Do/1632766559\n",
            "train_deploy1632766559\n"
          ]
        }
      ]
    },
    {
      "cell_type": "markdown",
      "metadata": {
        "id": "O6lRpRZ3eGSC"
      },
      "source": [
        "# Pipeline 정의"
      ]
    },
    {
      "cell_type": "markdown",
      "metadata": {
        "id": "ZPsQjPmge2Z9"
      },
      "source": [
        "#### 해당 부분을 요구에 맞게 수정해주세요"
      ]
    },
    {
      "cell_type": "code",
      "metadata": {
        "id": "da9RO2o785fz"
      },
      "source": [
        "@component\n",
        "def training_op(training_state: str):\n",
        "    print(\"training task: {}\".format(training_state))\n",
        "\n",
        "@kfp.dsl.pipeline(name=\"resnet\" + TIMESTAMP, pipeline_root=PIPELINE_ROOT)\n",
        "def pipeline():\n",
        "    train_task = training_op(\"model training\")\n",
        "    experimental.run_as_aiplatform_custom_job(\n",
        "        train_task,\n",
        "        worker_pool_specs=[\n",
        "            {\n",
        "                \"containerSpec\": {\n",
        "                    \"env\": [{\"name\": \"WANDB_API_KEY\", \"value\": WANDB_API_KEY},\n",
        "                            {\"name\": \"WORKING_DIR\", \"value\": WORKING_DIR}],\n",
        "                    \"imageUri\": \"silverstar456/vertexai:mnist\", # 사전에 빌드한 도커 이미지 URI\n",
        "                },\n",
        "                \"replicaCount\": \"1\",\n",
        "                \"machineSpec\": {\n",
        "                    \"machineType\": \"n1-standard-8\", # 실행시 사용할 머신 타입 GCP 문서 참조\n",
        "                    \"accelerator_type\": vertex_ai.gapic.AcceleratorType.NVIDIA_TESLA_V100, # GPU 타입\n",
        "                    \"accelerator_count\": 1, # GPU 개수\n",
        "                },\n",
        "            }\n",
        "        ],\n",
        "    )"
      ],
      "execution_count": null,
      "outputs": []
    },
    {
      "cell_type": "code",
      "metadata": {
        "colab": {
          "base_uri": "https://localhost:8080/"
        },
        "id": "259M41bwmFSE",
        "outputId": "3bf1541a-e306-4f7e-8220-5f396fb463e2"
      },
      "source": [
        "compiler.Compiler().compile(\n",
        "    pipeline_func = pipeline, package_path = \"custom-pipeline.json\"\n",
        ")\n",
        "\n",
        "pipeline = vertex_ai.PipelineJob(\n",
        "    display_name=\"resnet\",\n",
        "    enable_caching=False,\n",
        "    template_path=\"custom-pipeline.json\",\n",
        "    parameter_values={},\n",
        ")\n",
        "\n",
        "pipeline.run(sync=False)"
      ],
      "execution_count": null,
      "outputs": [
        {
          "output_type": "stream",
          "name": "stdout",
          "text": [
            "INFO:google.cloud.aiplatform.pipeline_jobs:Creating PipelineJob\n"
          ]
        }
      ]
    },
    {
      "cell_type": "code",
      "metadata": {
        "id": "Tw2B1UecnbWJ"
      },
      "source": [
        ""
      ],
      "execution_count": null,
      "outputs": []
    }
  ]
}