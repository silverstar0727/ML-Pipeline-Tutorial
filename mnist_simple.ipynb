{
  "nbformat": 4,
  "nbformat_minor": 0,
  "metadata": {
    "colab": {
      "name": "mnist_simple.ipynb",
      "provenance": [],
      "collapsed_sections": [],
      "authorship_tag": "ABX9TyPbySeH/Wmr+YYdp6u6yXSZ",
      "include_colab_link": true
    },
    "kernelspec": {
      "name": "python3",
      "display_name": "Python 3"
    },
    "language_info": {
      "name": "python"
    }
  },
  "cells": [
    {
      "cell_type": "markdown",
      "metadata": {
        "id": "view-in-github",
        "colab_type": "text"
      },
      "source": [
        "<a href=\"https://colab.research.google.com/github/silverstar0727/ML-Pipeline-Tutorial/blob/main/mnist_simple.ipynb\" target=\"_parent\"><img src=\"https://colab.research.google.com/assets/colab-badge.svg\" alt=\"Open In Colab\"/></a>"
      ]
    },
    {
      "cell_type": "markdown",
      "metadata": {
        "id": "3OWuiQ8ensT0"
      },
      "source": [
        "## 설치 및 라이브러리 임포트"
      ]
    },
    {
      "cell_type": "code",
      "metadata": {
        "id": "D5a9ZFLANh98"
      },
      "source": [
        "# 해당 셀을 실행한 후에 반드시 \"런타임 다시시작\"을 해주세요\n",
        "!pip install -q kfp"
      ],
      "execution_count": null,
      "outputs": []
    },
    {
      "cell_type": "code",
      "metadata": {
        "id": "u4tXVkJumpXc"
      },
      "source": [
        "from typing import NamedTuple\n",
        "import json \n",
        "\n",
        "import kfp\n",
        "from kfp import dsl\n",
        "from kfp.v2 import compiler\n",
        "from kfp.v2.dsl import (Artifact, Dataset, Input, InputPath, Model, Output,\n",
        "                        OutputPath, component, ClassificationMetrics)\n",
        "from kfp.v2.google.client import AIPlatformClient"
      ],
      "execution_count": 4,
      "outputs": []
    },
    {
      "cell_type": "markdown",
      "metadata": {
        "id": "LuGyYnmcnz4X"
      },
      "source": [
        "## GCP 연결"
      ]
    },
    {
      "cell_type": "code",
      "metadata": {
        "id": "WimjuxN-BU1K"
      },
      "source": [
        "# gcp 연결\n",
        "from google.colab import auth as google_auth\n",
        "\n",
        "google_auth.authenticate_user()"
      ],
      "execution_count": 5,
      "outputs": []
    },
    {
      "cell_type": "markdown",
      "metadata": {
        "id": "NlZSTwBSn1_j"
      },
      "source": [
        "# 상수설정"
      ]
    },
    {
      "cell_type": "code",
      "metadata": {
        "id": "3hQzhMNVwsVC"
      },
      "source": [
        "from datetime import datetime\n",
        "\n",
        "PROJECT_ID = 'mlops-210515'\n",
        "REGION = \"us-central1\"\n",
        "\n",
        "TIMESTAMP = datetime.now().strftime(\"%Y%m%d%H%M%S\")\n",
        "BUCKET_NAME = \"gs://pipeline-129332\"\n",
        "\n",
        "USER = \"JeongMin-Do\"\n",
        "PIPELINE_ROOT = \"{}/pipeline_root/{}\".format(BUCKET_NAME, USER)"
      ],
      "execution_count": 6,
      "outputs": []
    },
    {
      "cell_type": "code",
      "metadata": {
        "colab": {
          "base_uri": "https://localhost:8080/",
          "height": 34
        },
        "id": "YwYKRlUXqZNm",
        "outputId": "e5ccddea-0c7a-4205-ae19-c3e974091911"
      },
      "source": [
        "@component(base_image=\"tensorflow/tensorflow\", output_component_file='download_mnist.yaml')\n",
        "def download_mnist(output_dir_path: OutputPath(\"dataset\")):\n",
        "    import tensorflow as tf\n",
        "\n",
        "    tf.keras.datasets.mnist.load_data(output_dir_path)\n",
        "\n",
        "@component(base_image=\"tensorflow/tensorflow\", output_component_file='train_mnist.yaml')\n",
        "def train_mnist(data_path: InputPath(\"dataset\"), model_output: OutputPath(\"Model\"), result_output: OutputPath(\"Result\")):\n",
        "    import tensorflow as tf\n",
        "    import numpy as np\n",
        "    with np.load(data_path, allow_pickle=True) as f:\n",
        "        x_train, y_train = f['x_train'], f['y_train']\n",
        "        x_test, y_test = f['x_test'], f['y_test']\n",
        "    print(x_train.shape)\n",
        "    print(y_train.shape)\n",
        "\n",
        "    model = tf.keras.models.Sequential([\n",
        "        tf.keras.layers.Flatten(input_shape=(28, 28)),\n",
        "        tf.keras.layers.Dense(128, activation='relu'),\n",
        "        tf.keras.layers.Dense(10)\n",
        "    ])\n",
        "    model.compile(\n",
        "        optimizer=tf.keras.optimizers.Adam(0.001),\n",
        "        loss=tf.keras.losses.SparseCategoricalCrossentropy(from_logits=True),\n",
        "        metrics=[tf.keras.metrics.SparseCategoricalAccuracy()],\n",
        "    )\n",
        "\n",
        "    model.fit(\n",
        "        x_train, y_train,\n",
        "    )\n",
        "    results = model.evaluate(x_test, y_test)\n",
        "    loss = results[0]\n",
        "    accuracy = results[1]\n",
        "    \n",
        "    metrics = {\n",
        "        'metrics': [{\n",
        "            'name': 'accuracy',\n",
        "            'numberValue': float(accuracy),\n",
        "            'format': \"PERCENTAGE\",\n",
        "        }, {\n",
        "            'name': 'loss',\n",
        "            'numberValue': float(loss),\n",
        "            'format': \"RAW\",\n",
        "        }]\n",
        "    }\n",
        "    import json\n",
        "    with open(result_output, 'w') as outfile:\n",
        "        json.dump(metrics, outfile)\n",
        "\n",
        "    model.save(model_output)\n",
        "\n",
        "@dsl.pipeline(\n",
        "    name = \"mnist-simple-1\",\n",
        "    description = \"A simple mnist pipeline\",\n",
        "    pipeline_root = PIPELINE_ROOT\n",
        ")\n",
        "def tf_mnist_pipeline():\n",
        "    download_op = download_mnist()\n",
        "    train_mnist_op = train_mnist(download_op.output)\n",
        "\n",
        "\n",
        "compiler.Compiler().compile(\n",
        "    pipeline_func = tf_mnist_pipeline, \n",
        "    package_path = \"mnist-simple-1.json\"\n",
        ")\n",
        "api_client = AIPlatformClient(\n",
        "    project_id=PROJECT_ID,\n",
        "    region=REGION,\n",
        ")\n",
        "response = api_client.create_run_from_job_spec(\n",
        "    job_spec_path=\"mnist-simple-1.json\",\n",
        ")"
      ],
      "execution_count": 42,
      "outputs": [
        {
          "output_type": "display_data",
          "data": {
            "text/html": [
              "See the Pipeline job <a href=\"https://console.cloud.google.com/vertex-ai/locations/us-central1/pipelines/runs/mnist-simple-1-20210701120404?project=mlops-210515\" target=\"_blank\" >here</a>."
            ],
            "text/plain": [
              "<IPython.core.display.HTML object>"
            ]
          },
          "metadata": {
            "tags": []
          }
        }
      ]
    }
  ]
}